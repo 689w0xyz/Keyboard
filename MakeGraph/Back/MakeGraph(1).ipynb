{
 "cells": [
  {
   "cell_type": "code",
   "execution_count": 6,
   "metadata": {},
   "outputs": [],
   "source": [
    "from importlib.resources import path\n",
    "import pandas as pd\n",
    "import numpy as np\n",
    "import matplotlib.pyplot as plt\n",
    "import os\n",
    "from PIL import Image \n",
    "import shutil, sys  "
   ]
  },
  {
   "cell_type": "code",
   "execution_count": 7,
   "metadata": {},
   "outputs": [],
   "source": [
    "path =  os.getcwd() + \"\\\\Data\"\n",
    "fileList =  os.listdir(path)\n",
    "fileName = path + \"\\\\\" + fileList[0]\n",
    "fileNameW = path + \"\\\\csm.tmp\""
   ]
  },
  {
   "cell_type": "code",
   "execution_count": 11,
   "metadata": {},
   "outputs": [
    {
     "name": "stdout",
     "output_type": "stream",
     "text": [
      "c:\\Users\\taroh\\OneDrive\\_Github\\PerProj\\MakeGraph\\Data\n",
      "c:\\Users\\taroh\\OneDrive\\_Github\\PerProj\\MakeGraph\\Data\\csm.dat\n",
      "c:\\Users\\taroh\\OneDrive\\_Github\\PerProj\\MakeGraph\\Data\\csm.tmp\n"
     ]
    }
   ],
   "source": [
    "print(path)\n",
    "print(fileName)\n",
    "print(fileNameW)"
   ]
  },
  {
   "cell_type": "code",
   "execution_count": 13,
   "metadata": {},
   "outputs": [],
   "source": [
    "fP = open(fileName, 'r', encoding='utf-8')\n",
    "fPw = open(fileNameW, 'w', encoding='utf-8')"
   ]
  },
  {
   "cell_type": "code",
   "execution_count": 14,
   "metadata": {},
   "outputs": [],
   "source": [
    "trigger = False\n",
    "for line in fP:\n",
    "    if trigger == False:\n",
    "        tmpbuf = line.split('\\t')\n",
    "        if (tmpbuf[0] == \"Roll\") or (tmpbuf[0] == \"OutRoll\"):\n",
    "            trigger = True\n",
    "            fPw.write(line)\n",
    "    else:\n",
    "        fPw.write(line)\n",
    "fP.close()\n",
    "fPw.close()"
   ]
  },
  {
   "cell_type": "code",
   "execution_count": 15,
   "metadata": {},
   "outputs": [],
   "source": [
    "data=pd.read_csv(fileNameW, sep=\"\\t\")\n",
    "# data.head()"
   ]
  },
  {
   "cell_type": "code",
   "execution_count": null,
   "metadata": {},
   "outputs": [],
   "source": [
    "for col in data.columns.array:\n",
    "    if (col != \"TEST_ON_TIME\") and (col != \"Roll\"):\n",
    "        #print(col)\n",
    "        plt.figure(figsize=(50,7))\n",
    "        plt.ylim([0,5])\n",
    "        plt.title(label=col)\n",
    "        plt.margins(x=None,y=None,tight=True)\n",
    "        plt.plot(data[\"{}\".format(col)][data.index])        \n",
    "        plt.savefig(\"tmp.png\")\n",
    "        img = Image.open(\"tmp.png\")\n",
    "        cropImg = img.crop((590,45,4550,660))\n",
    "        cropImg.save('Data/{}.png'.format(col))\n"
   ]
  },
  {
   "cell_type": "code",
   "execution_count": null,
   "metadata": {},
   "outputs": [],
   "source": [
    "if os.path.exists(\"tmp.png\"):\n",
    "    os.remove(\"tmp.png\") \n"
   ]
  }
 ],
 "metadata": {
  "kernelspec": {
   "display_name": "Python 3.10.5 64-bit",
   "language": "python",
   "name": "python3"
  },
  "language_info": {
   "codemirror_mode": {
    "name": "ipython",
    "version": 3
   },
   "file_extension": ".py",
   "mimetype": "text/x-python",
   "name": "python",
   "nbconvert_exporter": "python",
   "pygments_lexer": "ipython3",
   "version": "3.10.5"
  },
  "orig_nbformat": 4,
  "vscode": {
   "interpreter": {
    "hash": "8d544d1a9ab7ed3f9ec7d1970f682e12a65b0c597411c29afa0b7ac22a13b7be"
   }
  }
 },
 "nbformat": 4,
 "nbformat_minor": 2
}
